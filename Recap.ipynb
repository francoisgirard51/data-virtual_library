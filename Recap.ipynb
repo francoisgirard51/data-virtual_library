{
 "cells": [
  {
   "cell_type": "markdown",
   "metadata": {},
   "source": [
    "# CSV + API\n",
    "\n",
    "In this reboot, we are going to use:\n",
    "\n",
    "- The [Goodreads books](https://www.kaggle.com/jealousleopard/goodreadsbooks) dataset from Kaggle.\n",
    "- The [Open Library Books API](https://openlibrary.org/dev/docs/api/books)\n",
    "\n",
    "The goal of this livecode is to load the data from a CSV + loop over rows to enrich each row with information such as:\n",
    "\n",
    "- List of subjects (Science, Humor, Travel, etc.)\n",
    "- The cover URL of the book\n",
    "- Other information you'd find useful in the JSON API"
   ]
  },
  {
   "cell_type": "markdown",
   "metadata": {},
   "source": [
    "First, download the CSV in the local folder:"
   ]
  },
  {
   "cell_type": "code",
   "execution_count": 1,
   "metadata": {},
   "outputs": [
    {
     "name": "stdout",
     "output_type": "stream",
     "text": [
      "  % Total    % Received % Xferd  Average Speed   Time    Time     Time  Current\n",
      "                                 Dload  Upload   Total   Spent    Left  Speed\n",
      "100 1509k  100 1509k    0     0   755k      0  0:00:01  0:00:01 --:--:--  759k\n"
     ]
    }
   ],
   "source": [
    "!curl -L https://gist.githubusercontent.com/ssaunier/351b17f5a7a009808b60aeacd1f4a036/raw/books.csv > books.csv"
   ]
  },
  {
   "cell_type": "code",
   "execution_count": 2,
   "metadata": {},
   "outputs": [
    {
     "name": "stdout",
     "output_type": "stream",
     "text": [
      "total 4264\r\n",
      "-rw-r--r--  1 francoisgirard  staff   579B Nov 29  2022 README.md\r\n",
      "-rw-r--r--  1 francoisgirard  staff    14K Oct 31 15:43 Recap.ipynb\r\n",
      "-rw-r--r--  1 francoisgirard  staff   1.5M Oct 31 15:44 books.csv\r\n"
     ]
    }
   ],
   "source": [
    "!ls -lh"
   ]
  },
  {
   "cell_type": "markdown",
   "metadata": {},
   "source": [
    "Then import the usual suspects!"
   ]
  },
  {
   "cell_type": "code",
   "execution_count": 3,
   "metadata": {},
   "outputs": [],
   "source": [
    "import requests\n",
    "import pandas as pd\n",
    "import numpy as np"
   ]
  },
  {
   "cell_type": "markdown",
   "metadata": {},
   "source": [
    "## Load books from CSV"
   ]
  },
  {
   "cell_type": "code",
   "execution_count": 4,
   "metadata": {
    "tags": [
     "challengify"
    ]
   },
   "outputs": [
    {
     "data": {
      "text/html": [
       "<div>\n",
       "<style scoped>\n",
       "    .dataframe tbody tr th:only-of-type {\n",
       "        vertical-align: middle;\n",
       "    }\n",
       "\n",
       "    .dataframe tbody tr th {\n",
       "        vertical-align: top;\n",
       "    }\n",
       "\n",
       "    .dataframe thead th {\n",
       "        text-align: right;\n",
       "    }\n",
       "</style>\n",
       "<table border=\"1\" class=\"dataframe\">\n",
       "  <thead>\n",
       "    <tr style=\"text-align: right;\">\n",
       "      <th></th>\n",
       "      <th>bookID</th>\n",
       "      <th>title</th>\n",
       "      <th>authors</th>\n",
       "      <th>average_rating</th>\n",
       "      <th>isbn</th>\n",
       "      <th>isbn13</th>\n",
       "      <th>language_code</th>\n",
       "      <th># num_pages</th>\n",
       "      <th>ratings_count</th>\n",
       "      <th>text_reviews_count</th>\n",
       "    </tr>\n",
       "  </thead>\n",
       "  <tbody>\n",
       "    <tr>\n",
       "      <th>0</th>\n",
       "      <td>1</td>\n",
       "      <td>Harry Potter and the Half-Blood Prince (Harry ...</td>\n",
       "      <td>J.K. Rowling-Mary GrandPré</td>\n",
       "      <td>4.56</td>\n",
       "      <td>0439785960</td>\n",
       "      <td>9780439785969</td>\n",
       "      <td>eng</td>\n",
       "      <td>652</td>\n",
       "      <td>1944099</td>\n",
       "      <td>26249</td>\n",
       "    </tr>\n",
       "    <tr>\n",
       "      <th>1</th>\n",
       "      <td>2</td>\n",
       "      <td>Harry Potter and the Order of the Phoenix (Har...</td>\n",
       "      <td>J.K. Rowling-Mary GrandPré</td>\n",
       "      <td>4.49</td>\n",
       "      <td>0439358078</td>\n",
       "      <td>9780439358071</td>\n",
       "      <td>eng</td>\n",
       "      <td>870</td>\n",
       "      <td>1996446</td>\n",
       "      <td>27613</td>\n",
       "    </tr>\n",
       "    <tr>\n",
       "      <th>2</th>\n",
       "      <td>3</td>\n",
       "      <td>Harry Potter and the Sorcerer's Stone (Harry P...</td>\n",
       "      <td>J.K. Rowling-Mary GrandPré</td>\n",
       "      <td>4.47</td>\n",
       "      <td>0439554934</td>\n",
       "      <td>9780439554930</td>\n",
       "      <td>eng</td>\n",
       "      <td>320</td>\n",
       "      <td>5629932</td>\n",
       "      <td>70390</td>\n",
       "    </tr>\n",
       "    <tr>\n",
       "      <th>3</th>\n",
       "      <td>4</td>\n",
       "      <td>Harry Potter and the Chamber of Secrets (Harry...</td>\n",
       "      <td>J.K. Rowling</td>\n",
       "      <td>4.41</td>\n",
       "      <td>0439554896</td>\n",
       "      <td>9780439554893</td>\n",
       "      <td>eng</td>\n",
       "      <td>352</td>\n",
       "      <td>6267</td>\n",
       "      <td>272</td>\n",
       "    </tr>\n",
       "    <tr>\n",
       "      <th>4</th>\n",
       "      <td>5</td>\n",
       "      <td>Harry Potter and the Prisoner of Azkaban (Harr...</td>\n",
       "      <td>J.K. Rowling-Mary GrandPré</td>\n",
       "      <td>4.55</td>\n",
       "      <td>043965548X</td>\n",
       "      <td>9780439655484</td>\n",
       "      <td>eng</td>\n",
       "      <td>435</td>\n",
       "      <td>2149872</td>\n",
       "      <td>33964</td>\n",
       "    </tr>\n",
       "  </tbody>\n",
       "</table>\n",
       "</div>"
      ],
      "text/plain": [
       "   bookID                                              title  \\\n",
       "0       1  Harry Potter and the Half-Blood Prince (Harry ...   \n",
       "1       2  Harry Potter and the Order of the Phoenix (Har...   \n",
       "2       3  Harry Potter and the Sorcerer's Stone (Harry P...   \n",
       "3       4  Harry Potter and the Chamber of Secrets (Harry...   \n",
       "4       5  Harry Potter and the Prisoner of Azkaban (Harr...   \n",
       "\n",
       "                      authors  average_rating        isbn         isbn13  \\\n",
       "0  J.K. Rowling-Mary GrandPré            4.56  0439785960  9780439785969   \n",
       "1  J.K. Rowling-Mary GrandPré            4.49  0439358078  9780439358071   \n",
       "2  J.K. Rowling-Mary GrandPré            4.47  0439554934  9780439554930   \n",
       "3                J.K. Rowling            4.41  0439554896  9780439554893   \n",
       "4  J.K. Rowling-Mary GrandPré            4.55  043965548X  9780439655484   \n",
       "\n",
       "  language_code  # num_pages  ratings_count  text_reviews_count  \n",
       "0           eng          652        1944099               26249  \n",
       "1           eng          870        1996446               27613  \n",
       "2           eng          320        5629932               70390  \n",
       "3           eng          352           6267                 272  \n",
       "4           eng          435        2149872               33964  "
      ]
     },
     "execution_count": 4,
     "metadata": {},
     "output_type": "execute_result"
    }
   ],
   "source": [
    "# Load books from CSV\n",
    "books_df = pd.read_csv('books.csv')\n",
    "\n",
    "# Display the first few rows of the dataframe to check the data\n",
    "books_df.head()"
   ]
  },
  {
   "cell_type": "markdown",
   "metadata": {},
   "source": [
    "Let's add a new column"
   ]
  },
  {
   "cell_type": "code",
   "execution_count": 5,
   "metadata": {
    "tags": [
     "challengify"
    ]
   },
   "outputs": [],
   "source": [
    "books_df['sample_column'] = 'sample_value'"
   ]
  },
  {
   "cell_type": "markdown",
   "metadata": {},
   "source": [
    "## API - Open Library"
   ]
  },
  {
   "cell_type": "code",
   "execution_count": null,
   "metadata": {
    "tags": [
     "challengify"
    ]
   },
   "outputs": [
    {
     "name": "stdout",
     "output_type": "stream",
     "text": [
      "   bookID                                              title  \\\n",
      "0       1  Harry Potter and the Half-Blood Prince (Harry ...   \n",
      "1       2  Harry Potter and the Order of the Phoenix (Har...   \n",
      "2       3  Harry Potter and the Sorcerer's Stone (Harry P...   \n",
      "3       4  Harry Potter and the Chamber of Secrets (Harry...   \n",
      "4       5  Harry Potter and the Prisoner of Azkaban (Harr...   \n",
      "\n",
      "                      authors  average_rating        isbn         isbn13  \\\n",
      "0  J.K. Rowling-Mary GrandPré            4.56  0439785960  9780439785969   \n",
      "1  J.K. Rowling-Mary GrandPré            4.49  0439358078  9780439358071   \n",
      "2  J.K. Rowling-Mary GrandPré            4.47  0439554934  9780439554930   \n",
      "3                J.K. Rowling            4.41  0439554896  9780439554893   \n",
      "4  J.K. Rowling-Mary GrandPré            4.55  043965548X  9780439655484   \n",
      "\n",
      "  language_code  # num_pages  ratings_count  text_reviews_count  \n",
      "0           eng          652        1944099               26249  \n",
      "1           eng          870        1996446               27613  \n",
      "2           eng          320        5629932               70390  \n",
      "3           eng          352           6267                 272  \n",
      "4           eng          435        2149872               33964  \n"
     ]
    }
   ],
   "source": [
    "books_df = pd.read_csv('books.csv')\n",
    "\n",
    "print(books_df.head())\n",
    "\n",
    "# Add a sample column\n",
    "books_df['sample_column'] = 'sample_value'\n",
    "\n",
    "# Define the base URL for the Open Library API\n",
    "BASE_URL = \"https://openlibrary.org/api/books?bibkeys=ISBN:{}&format=json&jscmd=data\"\n",
    "\n",
    "# Initialize new columns to store the extracted information\n",
    "books_df['cover_url'] = np.nan\n",
    "books_df['subjects'] = np.nan\n",
    "\n",
    "# Loop through the DataFrame and make API requests\n",
    "for index, row in books_df.iterrows():\n",
    "    isbn = row['isbn']\n",
    "    response = requests.get(BASE_URL.format(isbn))\n",
    "    \n",
    "    if response.status_code == 200:  # Check if the request was successful\n",
    "        data = response.json()\n",
    "        \n",
    "        try:\n",
    "            # Extract the cover URL\n",
    "            cover_url = data[f'ISBN:{isbn}']['cover']['medium']\n",
    "            books_df.at[index, 'cover_url'] = cover_url\n",
    "        except KeyError:\n",
    "            pass  # If cover URL is not present, just pass\n",
    "        \n",
    "        try:\n",
    "            # Extract subjects\n",
    "            subjects = [subject['name'] for subject in data[f'ISBN:{isbn}']['subjects']]\n",
    "            books_df.at[index, 'subjects'] = ', '.join(subjects)\n",
    "        except KeyError:\n",
    "            pass  # If subjects are not present, just pass\n",
    "\n",
    "# Display the updated DataFrame\n",
    "print(books_df.head())\n"
   ]
  },
  {
   "cell_type": "code",
   "execution_count": null,
   "metadata": {},
   "outputs": [],
   "source": [
    "BASE_URL = \"https://openlibrary.org/api/books?bibkeys=ISBN:{}&format=json&jscmd=data\"\n",
    "books_df['subjects'] = np.nan\n",
    "books_df['cover_url'] = np.nan\n",
    "\n",
    "for idx, row in books_df.iterrows():\n",
    "    url = BASE_URL.format(row['isbn'])\n",
    "    response = requests.get(url)\n",
    "    if response.status_code == 200:\n",
    "        data = response.json().get(f'ISBN:{row[\"isbn\"]}', {})\n",
    "        subjects = [subject['name'] for subject in data.get('subjects', [])]\n",
    "        books_df.at[idx, 'subjects'] = ', '.join(subjects)\n",
    "        books_df.at[idx, 'cover_url'] = data.get('cover', {}).get('medium')\n",
    "\n",
    "def get_book_details_from_api(isbn):\n",
    "    url = BASE_URL.format(isbn)\n",
    "    headers = {\n",
    "        \"User-Agent\": \"YourAppName/1.0\"  # Remplacez par le nom de votre application ou autre identifiant\n",
    "    }\n",
    "    response = requests.get(url, headers=headers)\n",
    "    data = {}\n",
    "\n",
    "    if response.status_code == 200:\n",
    "        json_data = response.json()\n",
    "        \n",
    "        # Extract cover_url\n",
    "        data['cover_url'] = json_data.get(f'ISBN:{isbn}', {}).get('cover', {}).get('medium')\n",
    "        \n",
    "        # Extract subjects\n",
    "        subjects_data = json_data.get(f'ISBN:{isbn}', {}).get('subjects', [])\n",
    "        data['subjects'] = ', '.join([subject['name'] for subject in subjects_data])\n",
    "    \n",
    "    return data\n",
    "\n",
    "# Loop through the DataFrame\n",
    "for index, row in books_df.iterrows():\n",
    "    details = get_book_details_from_api(row['isbn'])\n",
    "    books_df.at[index, 'cover_url'] = details.get('cover_url')\n",
    "    books_df.at[index, 'subjects'] = details.get('subjects')\n",
    "\n",
    "# Display the updated DataFrame\n",
    "print(books_df.head())\n"
   ]
  },
  {
   "cell_type": "markdown",
   "metadata": {},
   "source": [
    "## Calling the API with multiple ISBNs at a time"
   ]
  },
  {
   "cell_type": "code",
   "execution_count": null,
   "metadata": {
    "tags": [
     "challengify"
    ]
   },
   "outputs": [],
   "source": [
    "# Define the base URL for the Open Library API\n",
    "BASE_URL = \"https://openlibrary.org/api/books?bibkeys={}&format=json&jscmd=data\"\n",
    "HEADERS = {\n",
    "    \"User-Agent\": \"YourAppName/1.0\"  # Remplacez par le nom de votre application ou autre identifiant\n",
    "}\n",
    "\n",
    "def fetch_details_for_group(isbn_group):\n",
    "    \"\"\"Fetch details for a group of ISBNs\"\"\"\n",
    "    url = BASE_URL.format(\",\".join([f\"ISBN:{isbn}\" for isbn in isbn_group]))\n",
    "    response = requests.get(url, headers=HEADERS)\n",
    "    \n",
    "    if response.status_code == 200:\n",
    "        return response.json()\n",
    "    return {}\n",
    "\n",
    "# Batch the ISBNs to groups (e.g., groups of 10)\n",
    "isbn_groups = [books_df['isbn'][i:i+10].tolist() for i in range(0, books_df.shape[0], 10)]\n",
    "\n",
    "for group in isbn_groups:\n",
    "    details = fetch_details_for_group(group)\n",
    "    \n",
    "    for isbn in group:\n",
    "        key = f\"ISBN:{isbn}\"\n",
    "        if key in details:\n",
    "            data = details[key]\n",
    "            # Extract cover_url\n",
    "            cover_url = data.get('cover', {}).get('medium', np.nan)\n",
    "            # Extract subjects\n",
    "            subjects_data = data.get('subjects', [])\n",
    "            subjects = ', '.join([subject['name'] for subject in subjects_data]) or np.nan\n",
    "            \n",
    "            # Update the DataFrame\n",
    "            books_df.loc[books_df['isbn'] == isbn, 'cover_url'] = cover_url\n",
    "            books_df.loc[books_df['isbn'] == isbn, 'subjects'] = subjects\n",
    "\n",
    "# Display the updated DataFrame\n",
    "print(books_df.head())"
   ]
  },
  {
   "cell_type": "code",
   "execution_count": null,
   "metadata": {},
   "outputs": [],
   "source": []
  },
  {
   "cell_type": "code",
   "execution_count": null,
   "metadata": {},
   "outputs": [],
   "source": []
  }
 ],
 "metadata": {
  "kernelspec": {
   "display_name": "Python 3 (ipykernel)",
   "language": "python",
   "name": "python3"
  },
  "language_info": {
   "codemirror_mode": {
    "name": "ipython",
    "version": 3
   },
   "file_extension": ".py",
   "mimetype": "text/x-python",
   "name": "python",
   "nbconvert_exporter": "python",
   "pygments_lexer": "ipython3",
   "version": "3.10.6"
  },
  "toc": {
   "base_numbering": 1,
   "nav_menu": {},
   "number_sections": true,
   "sideBar": true,
   "skip_h1_title": false,
   "title_cell": "Table of Contents",
   "title_sidebar": "Contents",
   "toc_cell": false,
   "toc_position": {},
   "toc_section_display": true,
   "toc_window_display": false
  }
 },
 "nbformat": 4,
 "nbformat_minor": 4
}
